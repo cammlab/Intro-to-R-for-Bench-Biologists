{
 "cells": [
  {
   "cell_type": "code",
   "execution_count": 3,
   "metadata": {},
   "outputs": [],
   "source": [
    "source(\"setup.R\")"
   ]
  },
  {
   "cell_type": "markdown",
   "metadata": {},
   "source": [
    "------------\n",
    "\n",
    "> ### Learning Objectives\n",
    ">\n",
    "> * Define the following terms as they relate to R: object, assign, call,\n",
    ">   function, arguments, options.\n",
    "> * Assign values to objects in R.\n",
    "> * Learn how to _name_ objects\n",
    "> * Use comments to inform script.\n",
    "> * Solve simple arithmetic operations in R.\n",
    "> * Call functions and use arguments to change their default options.\n",
    "> * Inspect the content of vectors and manipulate their content.\n",
    "> * Subset and extract values from vectors.\n",
    "> * Analyze vectors with missing data.\n",
    "\n",
    "------------\n",
    "\n",
    "## Creating objects in R\n",
    "\n",
    "You can get output from R simply by typing math in the console:\n",
    "add two more math expression of your own. "
   ]
  },
  {
   "cell_type": "code",
   "execution_count": 4,
   "metadata": {
    "scrolled": true
   },
   "outputs": [
    {
     "data": {
      "text/html": [
       "8"
      ],
      "text/latex": [
       "8"
      ],
      "text/markdown": [
       "8"
      ],
      "text/plain": [
       "[1] 8"
      ]
     },
     "metadata": {},
     "output_type": "display_data"
    },
    {
     "data": {
      "text/html": [
       "1.71428571428571"
      ],
      "text/latex": [
       "1.71428571428571"
      ],
      "text/markdown": [
       "1.71428571428571"
      ],
      "text/plain": [
       "[1] 1.714286"
      ]
     },
     "metadata": {},
     "output_type": "display_data"
    }
   ],
   "source": [
    "3 + 5\n",
    "12 / 7"
   ]
  },
  {
   "cell_type": "markdown",
   "metadata": {},
   "source": [
    "However, to do useful and interesting things, we need to assign _values_ to\n",
    "_objects_. To create an object, we need to give it a name followed by the\n",
    "assignment operator `<-`, and the value we want to give it:\n",
    "\n",
    "* add your own variable called media_ml and assign it a value"
   ]
  },
  {
   "cell_type": "code",
   "execution_count": 10,
   "metadata": {
    "scrolled": true
   },
   "outputs": [
    {
     "data": {
      "text/html": [
       "1000"
      ],
      "text/latex": [
       "1000"
      ],
      "text/markdown": [
       "1000"
      ],
      "text/plain": [
       "[1] 1000"
      ]
     },
     "metadata": {},
     "output_type": "display_data"
    }
   ],
   "source": [
    "FBS_ml <- 1000\n",
    "FBS_ml"
   ]
  },
  {
   "cell_type": "markdown",
   "metadata": {},
   "source": [
    " `<-` is the assignment operator. It assigns values on the right to objects on\n",
    "the left. So, after executing `x <- 3`, the value of `x` is `3`. The arrow can\n",
    "be read as 3 **goes into** `x`.  \n",
    "\n",
    " In RStudio, typing <kbd>Alt</kbd> + <kbd>-</kbd> (push <kbd>Alt</kbd> at the\n",
    "same time as the <kbd>-</kbd> key) will write ` <- ` in a single keystroke in a PC, while typing <kbd>Option</kbd> + <kbd>-</kbd> (push <kbd>Option</kbd> at the\n",
    "same time as the <kbd>-</kbd> key) does the same in a Mac.\n",
    "\n",
    " Objects can be given any name such as `x`, `current_temperature`, or\n",
    "`subject_id`. You want your object names to be explicit and not too long. They\n",
    "cannot start with a number (`2x` is not valid, but `x2` is). R is case sensitive\n",
    "(e.g., `weight_kg` is different from `Weight_kg`). There are some names that\n",
    "cannot be used because they are the names of fundamental functions in R (e.g.,\n",
    "`if`, `else`, `for` etc.\n",
    "\n",
    "There several styles of naming multiple word variables - \n",
    "\n",
    "* camelCase\n",
    "* PascalCase\n",
    "* snake_case\n",
    "\n",
    "**pick one and be consistent**\n",
    "\n",
    "It's important to be consistent in the styling of your\n",
    "code (where you put spaces, how you name objects, etc.). Using a consistent\n",
    "coding style makes your code clearer to read for your future self and your\n",
    "collaborators. \n",
    "\n",
    "style guide [tidyverse's](http://style.tidyverse.org/). The tidyverse's is very\n",
    "comprehensive and may seem overwhelming at first. You can install the\n",
    "[**`lintr`**](https://github.com/jimhester/lintr) package to automatically check\n",
    "for issues in the styling of your code.\n",
    "\n",
    "> ### Objects vs. variables\n",
    ">\n",
    "> What are known as `objects` in `R` are known as `variables` in many other\n",
    "> programming languages. Depending on the context, `object` and `variable` can\n",
    "> have drastically different meanings. However, in this lesson, the two words\n",
    "> are used synonymously. For more information see:\n",
    "> https://cran.r-project.org/doc/manuals/r-release/R-lang.html#Objects\n",
    "\n",
    "\n",
    "Now that R has `weight_kg` in memory, we can do arithmetic with it. For\n",
    "instance, we may want to convert this weight into pounds (weight in pounds is 2.2 times the weight in kg):\n"
   ]
  },
  {
   "cell_type": "code",
   "execution_count": 12,
   "metadata": {},
   "outputs": [
    {
     "data": {
      "text/html": [
       "1"
      ],
      "text/latex": [
       "1"
      ],
      "text/markdown": [
       "1"
      ],
      "text/plain": [
       "[1] 1"
      ]
     },
     "metadata": {},
     "output_type": "display_data"
    }
   ],
   "source": [
    ".001 * FBS_ml"
   ]
  },
  {
   "cell_type": "markdown",
   "metadata": {},
   "source": [
    "We can also change an objects value by assigning it a new one. "
   ]
  },
  {
   "cell_type": "code",
   "execution_count": 15,
   "metadata": {},
   "outputs": [
    {
     "data": {
      "text/html": [
       "2"
      ],
      "text/latex": [
       "2"
      ],
      "text/markdown": [
       "2"
      ],
      "text/plain": [
       "[1] 2"
      ]
     },
     "metadata": {},
     "output_type": "display_data"
    }
   ],
   "source": [
    "FBS_ml <- 2000\n",
    ".001 * FBS_ml"
   ]
  },
  {
   "cell_type": "markdown",
   "metadata": {},
   "source": [
    "This means that assigning a value to one object does not change the values of\n",
    "other objects  For example, let's store the animal's weight in pounds in a new\n",
    "object, `weight_lb`:"
   ]
  },
  {
   "cell_type": "code",
   "execution_count": 19,
   "metadata": {},
   "outputs": [
    {
     "data": {
      "text/html": [
       "2"
      ],
      "text/latex": [
       "2"
      ],
      "text/markdown": [
       "2"
      ],
      "text/plain": [
       "[1] 2"
      ]
     },
     "metadata": {},
     "output_type": "display_data"
    }
   ],
   "source": [
    "FBS_L <- .001 * FBS_ml\n",
    "\n",
    "FBS_L"
   ]
  },
  {
   "cell_type": "markdown",
   "metadata": {},
   "source": [
    "and then change `FBS_ml` to 100."
   ]
  },
  {
   "cell_type": "code",
   "execution_count": 7,
   "metadata": {},
   "outputs": [],
   "source": [
    "FBS_ml <- 100"
   ]
  },
  {
   "cell_type": "markdown",
   "metadata": {},
   "source": [
    "What do you think is the current content of the object `FBS_L`? 100 or 2?\n",
    "\n",
    "once you make a guess, display the value below to check your answer."
   ]
  },
  {
   "cell_type": "code",
   "execution_count": null,
   "metadata": {},
   "outputs": [],
   "source": []
  },
  {
   "cell_type": "markdown",
   "metadata": {},
   "source": [
    "### Comments\n",
    "\n",
    "The comment character in R is `#`, anything to the right of a `#` in a script\n",
    "will be ignored by R. It is essential to annotate your scripts, providing notes and explainations.\n",
    "\n",
    "I also use comments to break up big chunks of my code. When writing functions its very usefull to comment on what the function is used for. \n",
    "\n",
    "commenting out peices of code that you don't want to be run at that timeis also useful if you just want to try something out. though be sure to go back and lean it up, you don't want lots of messy commented-out code. \n",
    "\n",
    "you want to make sure that someone other than you can understand what you did and why you did it. \n",
    "\n",
    "its also useful for reminders to go back and add something at that particular section of the code. \n",
    "\n",
    "* keep comments short\n",
    "* make them comcise\n",
    "* comment often but don't get crazy \n",
    "\n",
    "\n"
   ]
  },
  {
   "cell_type": "code",
   "execution_count": 30,
   "metadata": {},
   "outputs": [],
   "source": [
    "### Challenge ##\n",
    "\n",
    "##What are the values after each statement in the following?\n",
    "\n",
    "mean <- 55            # mass?\n",
    "SD  <- 12             # age?\n",
    "mean <- mean + 5      # mass?\n",
    "SD  <- SD +1       # age?\n",
    "CV <- SD/mean  # mass_index?\n",
    "\n"
   ]
  },
  {
   "cell_type": "code",
   "execution_count": 90,
   "metadata": {},
   "outputs": [
    {
     "data": {
      "text/html": [
       "60"
      ],
      "text/latex": [
       "60"
      ],
      "text/markdown": [
       "60"
      ],
      "text/plain": [
       "[1] 60"
      ]
     },
     "metadata": {},
     "output_type": "display_data"
    },
    {
     "data": {
      "text/html": [
       "13"
      ],
      "text/latex": [
       "13"
      ],
      "text/markdown": [
       "13"
      ],
      "text/plain": [
       "[1] 13"
      ]
     },
     "metadata": {},
     "output_type": "display_data"
    },
    {
     "data": {
      "text/html": [
       "0.216666666666667"
      ],
      "text/latex": [
       "0.216666666666667"
      ],
      "text/markdown": [
       "0.216666666666667"
      ],
      "text/plain": [
       "[1] 0.2166667"
      ]
     },
     "metadata": {},
     "output_type": "display_data"
    },
    {
     "name": "stdout",
     "output_type": "stream",
     "text": [
      "[1] 60\n"
     ]
    }
   ],
   "source": [
    "## use this space to check your guesses ## \n",
    "mean\n",
    "SD\n",
    "CV"
   ]
  },
  {
   "cell_type": "markdown",
   "metadata": {},
   "source": [
    "### Functions and their arguments\n",
    "\n",
    "* Functions are \"canned scripts\" that automate more complicated sets of commands\n",
    "\n",
    "* Many functions are predefined, or can be made available by importing R *packages* (more on that later). \n",
    "\n",
    "* A function usually takes one or more inputs called *arguments*. \n",
    "\n",
    "* Functions often (but not always) return a *value*. \n",
    "\n",
    "the template of a functio with argument could look like this \n",
    "\n",
    "variable  <-  generic_function(arg_name_1 = argument1, arg_name2 = argument2, arg_name3 = argument3)\n",
    "\n",
    "**has anyone used the \"/\" in slack?** \n",
    "\n",
    "\n",
    "### how many arguments does `sqrt()`  take? how would we find out if we don't know? \n",
    "\n"
   ]
  },
  {
   "cell_type": "code",
   "execution_count": 32,
   "metadata": {},
   "outputs": [
    {
     "data": {
      "text/html": [
       "7.74596669241483"
      ],
      "text/latex": [
       "7.74596669241483"
      ],
      "text/markdown": [
       "7.74596669241483"
      ],
      "text/plain": [
       "[1] 7.745967"
      ]
     },
     "metadata": {},
     "output_type": "display_data"
    }
   ],
   "source": [
    "sqrt(mean)"
   ]
  },
  {
   "cell_type": "code",
   "execution_count": null,
   "metadata": {},
   "outputs": [],
   "source": [
    "## lets assign this to a new variable ## \n",
    "\n",
    "mean_root <- "
   ]
  },
  {
   "cell_type": "markdown",
   "metadata": {},
   "source": [
    "* Here, the value of `mean` is given to the `sqrt()` function, the `sqrt()` function calculates the square root, and returns the value which is then assigned to the object `mean_root`. \n",
    "\n",
    "* The return 'value' of a function can be almost anyhing, number, text, data frame, image. \n",
    "\n",
    "* Arguments can be anything, not only numbers or filenames, but also other objects. Exactly what each argument means differs per function, and must be looked up in the documentation. \n",
    "\n",
    "* Some functions take arguments which may either be specified by the user, or, if left out, take on a *default* value: these are called *options*. Options are typically used to alter the way the function operates, such as whether it ignores 'bad values', or what symbol to use in a plot.  However, if you want something specific, you can specify a value of your choice which will be used instead of the default.\n",
    "\n",
    "* Let's try a function that can take multiple arguments: `round()`.\n"
   ]
  },
  {
   "cell_type": "code",
   "execution_count": 40,
   "metadata": {},
   "outputs": [
    {
     "data": {
      "text/html": [
       "<pre class=language-r><code>function (x, digits = 0) \n",
       "NULL</code></pre>"
      ],
      "text/latex": [
       "\\begin{minted}{r}\n",
       "function (x, digits = 0) \n",
       "NULL\n",
       "\\end{minted}"
      ],
      "text/markdown": [
       "```r\n",
       "function (x, digits = 0) \n",
       "NULL\n",
       "```"
      ],
      "text/plain": [
       "function (x, digits = 0) \n",
       "NULL"
      ]
     },
     "metadata": {},
     "output_type": "display_data"
    }
   ],
   "source": [
    "## what arguments does round take? hint:we can use args(round) or ?round ##\n",
    "\n",
    "args(round)"
   ]
  },
  {
   "cell_type": "markdown",
   "metadata": {},
   "source": [
    "Its best practice to explicitly name each argument in a function. `round` takes two arguments `x` and `digits` "
   ]
  },
  {
   "cell_type": "code",
   "execution_count": null,
   "metadata": {},
   "outputs": [],
   "source": [
    "# execute round, the x argument should be mean_root and make digits eual to 2. assign that to `round_root`\n",
    "\n"
   ]
  },
  {
   "cell_type": "markdown",
   "metadata": {},
   "source": [
    "### let's make our own function! \n",
    "\n",
    "let's make a function to calculate the standard error of the mean. We'll call it `SEM`. To make a fucntion we start by using the key word `function` and then specifying arguments. `SEM <- function(sample){ }` "
   ]
  },
  {
   "cell_type": "code",
   "execution_count": 92,
   "metadata": {},
   "outputs": [
    {
     "data": {
      "text/html": [
       "7.78101649446104"
      ],
      "text/latex": [
       "7.78101649446104"
      ],
      "text/markdown": [
       "7.78101649446104"
      ],
      "text/plain": [
       "[1] 7.781016"
      ]
     },
     "metadata": {},
     "output_type": "display_data"
    },
    {
     "name": "stdout",
     "output_type": "stream",
     "text": [
      "[1]  60  50  80 100 100  60  90\n"
     ]
    }
   ],
   "source": [
    "SEM <- function(sample){\n",
    "   stder <- sd(sample)/sqrt(length(sample))\n",
    "    return(stder)\n",
    "    \n",
    "}\n",
    "\n",
    "confluence  <- c(60,50,80,100,100,60,90)\n",
    "\n",
    "SEM(sample = confluence)"
   ]
  },
  {
   "cell_type": "markdown",
   "metadata": {},
   "source": [
    "in the above function there is an example of a nested function. You can exceute a function wthin a function within a function etc. \n"
   ]
  },
  {
   "cell_type": "markdown",
   "metadata": {},
   "source": [
    "# vectors, data types, and some things that you can do to them \n",
    "\n",
    "A vector is the most common and basic data type in R. A vector is composed by a series of values, which can be either numbers or characters. the most common basic data types you'll use are: \n",
    "* \"Doubles\" aka numeric aka numbers including decimals\n",
    "* \"Integers\" aka numeric aka only whole numbers \n",
    "* \"Strings\" aka text\n",
    "* \"logical\" aka boolean aka true/false \n",
    "\n",
    "We can assign a series of values to a vector using the c() function. what we did in our previous example is create an integer vector called 'confluence'. "
   ]
  },
  {
   "cell_type": "code",
   "execution_count": 49,
   "metadata": {},
   "outputs": [],
   "source": [
    "#lets do that again here: this is a vector of integers - whole numbers \n",
    "\n",
    "confluence  <- c(60,50,80,100,100,60,90)\n",
    "masses  <- c(10.2, 6.78, 11.54675634657, 9, 8.01)\n",
    "\n",
    "# vectors can also be strings\n",
    "\n",
    "cell_lines <- c(\"HeLa\", \"MCF-7\", \"MCF-7\", \"HeLa\", \"CHO\", \"HEK293\", \"MCF-7\")\n",
    "\n",
    "# vectors can also be logical (TRUE/FALSE)\n",
    "\n",
    "BC_lines  <- c(FALSE,  TRUE, TRUE, FALSE, FALSE, FALSE, TRUE)\n"
   ]
  },
  {
   "cell_type": "markdown",
   "metadata": {},
   "source": [
    "## Subsetting vectors \n",
    "\n",
    "say that now we only want to extract a subet of information from our vectors. for example, say that I only want the MCF-7 cell lines. There are several ways to do this: \n",
    "\n"
   ]
  },
  {
   "cell_type": "code",
   "execution_count": 57,
   "metadata": {},
   "outputs": [
    {
     "data": {
      "text/html": [
       "<ol class=list-inline>\n",
       "\t<li>'MCF-7'</li>\n",
       "\t<li>'MCF-7'</li>\n",
       "\t<li>'MCF-7'</li>\n",
       "</ol>\n"
      ],
      "text/latex": [
       "\\begin{enumerate*}\n",
       "\\item 'MCF-7'\n",
       "\\item 'MCF-7'\n",
       "\\item 'MCF-7'\n",
       "\\end{enumerate*}\n"
      ],
      "text/markdown": [
       "1. 'MCF-7'\n",
       "2. 'MCF-7'\n",
       "3. 'MCF-7'\n",
       "\n",
       "\n"
      ],
      "text/plain": [
       "[1] \"MCF-7\" \"MCF-7\" \"MCF-7\""
      ]
     },
     "metadata": {},
     "output_type": "display_data"
    },
    {
     "data": {
      "text/html": [
       "<ol class=list-inline>\n",
       "\t<li>'MCF-7'</li>\n",
       "\t<li>'MCF-7'</li>\n",
       "\t<li>'MCF-7'</li>\n",
       "</ol>\n"
      ],
      "text/latex": [
       "\\begin{enumerate*}\n",
       "\\item 'MCF-7'\n",
       "\\item 'MCF-7'\n",
       "\\item 'MCF-7'\n",
       "\\end{enumerate*}\n"
      ],
      "text/markdown": [
       "1. 'MCF-7'\n",
       "2. 'MCF-7'\n",
       "3. 'MCF-7'\n",
       "\n",
       "\n"
      ],
      "text/plain": [
       "[1] \"MCF-7\" \"MCF-7\" \"MCF-7\""
      ]
     },
     "metadata": {},
     "output_type": "display_data"
    },
    {
     "data": {
      "text/html": [
       "<ol class=list-inline>\n",
       "\t<li>'MCF-7'</li>\n",
       "\t<li>'MCF-7'</li>\n",
       "\t<li>'MCF-7'</li>\n",
       "</ol>\n"
      ],
      "text/latex": [
       "\\begin{enumerate*}\n",
       "\\item 'MCF-7'\n",
       "\\item 'MCF-7'\n",
       "\\item 'MCF-7'\n",
       "\\end{enumerate*}\n"
      ],
      "text/markdown": [
       "1. 'MCF-7'\n",
       "2. 'MCF-7'\n",
       "3. 'MCF-7'\n",
       "\n",
       "\n"
      ],
      "text/plain": [
       "[1] \"MCF-7\" \"MCF-7\" \"MCF-7\""
      ]
     },
     "metadata": {},
     "output_type": "display_data"
    },
    {
     "data": {
      "text/html": [
       "<ol class=list-inline>\n",
       "\t<li>FALSE</li>\n",
       "\t<li>FALSE</li>\n",
       "\t<li>FALSE</li>\n",
       "\t<li>TRUE</li>\n",
       "\t<li>TRUE</li>\n",
       "\t<li>FALSE</li>\n",
       "\t<li>TRUE</li>\n",
       "</ol>\n"
      ],
      "text/latex": [
       "\\begin{enumerate*}\n",
       "\\item FALSE\n",
       "\\item FALSE\n",
       "\\item FALSE\n",
       "\\item TRUE\n",
       "\\item TRUE\n",
       "\\item FALSE\n",
       "\\item TRUE\n",
       "\\end{enumerate*}\n"
      ],
      "text/markdown": [
       "1. FALSE\n",
       "2. FALSE\n",
       "3. FALSE\n",
       "4. TRUE\n",
       "5. TRUE\n",
       "6. FALSE\n",
       "7. TRUE\n",
       "\n",
       "\n"
      ],
      "text/plain": [
       "[1] FALSE FALSE FALSE  TRUE  TRUE FALSE  TRUE"
      ]
     },
     "metadata": {},
     "output_type": "display_data"
    },
    {
     "data": {
      "text/html": [
       "<ol class=list-inline>\n",
       "\t<li>FALSE</li>\n",
       "\t<li>FALSE</li>\n",
       "\t<li>FALSE</li>\n",
       "\t<li>TRUE</li>\n",
       "\t<li>TRUE</li>\n",
       "\t<li>FALSE</li>\n",
       "\t<li>FALSE</li>\n",
       "</ol>\n"
      ],
      "text/latex": [
       "\\begin{enumerate*}\n",
       "\\item FALSE\n",
       "\\item FALSE\n",
       "\\item FALSE\n",
       "\\item TRUE\n",
       "\\item TRUE\n",
       "\\item FALSE\n",
       "\\item FALSE\n",
       "\\end{enumerate*}\n"
      ],
      "text/markdown": [
       "1. FALSE\n",
       "2. FALSE\n",
       "3. FALSE\n",
       "4. TRUE\n",
       "5. TRUE\n",
       "6. FALSE\n",
       "7. FALSE\n",
       "\n",
       "\n"
      ],
      "text/plain": [
       "[1] FALSE FALSE FALSE  TRUE  TRUE FALSE FALSE"
      ]
     },
     "metadata": {},
     "output_type": "display_data"
    },
    {
     "data": {
      "text/html": [
       "<ol class=list-inline>\n",
       "\t<li>TRUE</li>\n",
       "\t<li>FALSE</li>\n",
       "\t<li>TRUE</li>\n",
       "\t<li>TRUE</li>\n",
       "\t<li>FALSE</li>\n",
       "</ol>\n"
      ],
      "text/latex": [
       "\\begin{enumerate*}\n",
       "\\item TRUE\n",
       "\\item FALSE\n",
       "\\item TRUE\n",
       "\\item TRUE\n",
       "\\item FALSE\n",
       "\\end{enumerate*}\n"
      ],
      "text/markdown": [
       "1. TRUE\n",
       "2. FALSE\n",
       "3. TRUE\n",
       "4. TRUE\n",
       "5. FALSE\n",
       "\n",
       "\n"
      ],
      "text/plain": [
       "[1]  TRUE FALSE  TRUE  TRUE FALSE"
      ]
     },
     "metadata": {},
     "output_type": "display_data"
    },
    {
     "data": {
      "text/html": [
       "<ol class=list-inline>\n",
       "\t<li>FALSE</li>\n",
       "\t<li>TRUE</li>\n",
       "\t<li>TRUE</li>\n",
       "\t<li>FALSE</li>\n",
       "\t<li>FALSE</li>\n",
       "\t<li>FALSE</li>\n",
       "\t<li>TRUE</li>\n",
       "</ol>\n"
      ],
      "text/latex": [
       "\\begin{enumerate*}\n",
       "\\item FALSE\n",
       "\\item TRUE\n",
       "\\item TRUE\n",
       "\\item FALSE\n",
       "\\item FALSE\n",
       "\\item FALSE\n",
       "\\item TRUE\n",
       "\\end{enumerate*}\n"
      ],
      "text/markdown": [
       "1. FALSE\n",
       "2. TRUE\n",
       "3. TRUE\n",
       "4. FALSE\n",
       "5. FALSE\n",
       "6. FALSE\n",
       "7. TRUE\n",
       "\n",
       "\n"
      ],
      "text/plain": [
       "[1] FALSE  TRUE  TRUE FALSE FALSE FALSE  TRUE"
      ]
     },
     "metadata": {},
     "output_type": "display_data"
    },
    {
     "data": {
      "text/html": [
       "<ol class=list-inline>\n",
       "\t<li>100</li>\n",
       "\t<li>100</li>\n",
       "\t<li>90</li>\n",
       "</ol>\n"
      ],
      "text/latex": [
       "\\begin{enumerate*}\n",
       "\\item 100\n",
       "\\item 100\n",
       "\\item 90\n",
       "\\end{enumerate*}\n"
      ],
      "text/markdown": [
       "1. 100\n",
       "2. 100\n",
       "3. 90\n",
       "\n",
       "\n"
      ],
      "text/plain": [
       "[1] 100 100  90"
      ]
     },
     "metadata": {},
     "output_type": "display_data"
    },
    {
     "data": {
      "text/html": [
       "<ol class=list-inline>\n",
       "\t<li>100</li>\n",
       "\t<li>100</li>\n",
       "</ol>\n"
      ],
      "text/latex": [
       "\\begin{enumerate*}\n",
       "\\item 100\n",
       "\\item 100\n",
       "\\end{enumerate*}\n"
      ],
      "text/markdown": [
       "1. 100\n",
       "2. 100\n",
       "\n",
       "\n"
      ],
      "text/plain": [
       "[1] 100 100"
      ]
     },
     "metadata": {},
     "output_type": "display_data"
    },
    {
     "data": {
      "text/html": [
       "<ol class=list-inline>\n",
       "\t<li>10.2</li>\n",
       "\t<li>11.54675634657</li>\n",
       "\t<li>9</li>\n",
       "</ol>\n"
      ],
      "text/latex": [
       "\\begin{enumerate*}\n",
       "\\item 10.2\n",
       "\\item 11.54675634657\n",
       "\\item 9\n",
       "\\end{enumerate*}\n"
      ],
      "text/markdown": [
       "1. 10.2\n",
       "2. 11.54675634657\n",
       "3. 9\n",
       "\n",
       "\n"
      ],
      "text/plain": [
       "[1] 10.20000 11.54676  9.00000"
      ]
     },
     "metadata": {},
     "output_type": "display_data"
    },
    {
     "data": {
      "text/html": [
       "<ol class=list-inline>\n",
       "\t<li>'MCF-7'</li>\n",
       "\t<li>'MCF-7'</li>\n",
       "\t<li>'MCF-7'</li>\n",
       "</ol>\n"
      ],
      "text/latex": [
       "\\begin{enumerate*}\n",
       "\\item 'MCF-7'\n",
       "\\item 'MCF-7'\n",
       "\\item 'MCF-7'\n",
       "\\end{enumerate*}\n"
      ],
      "text/markdown": [
       "1. 'MCF-7'\n",
       "2. 'MCF-7'\n",
       "3. 'MCF-7'\n",
       "\n",
       "\n"
      ],
      "text/plain": [
       "[1] \"MCF-7\" \"MCF-7\" \"MCF-7\""
      ]
     },
     "metadata": {},
     "output_type": "display_data"
    }
   ],
   "source": [
    "# We can explicitly extract the position of each element. we can do this with brackets\n",
    "cell_lines[c(2,3,7)]   # this applies a numeric vector to vector \"cell_lines\"\n",
    "\n",
    "\n",
    "# We can also apply a logical vector to the original vector \"cell_lines\" \n",
    "cell_lines[c(FALSE, TRUE, TRUE, FALSE, FALSE, FALSE, TRUE)] # does this look familliar?\n",
    "\n",
    "#whats another way we can write this? \n",
    "\n",
    "cell_lines[BC_lines]\n",
    "\n",
    "\n",
    "# We can generate logical vectors using operators and conditional subsetting\n",
    "\n",
    "confluence > 80\n",
    "confluence == 100 # be carful '==' means 'equal to' but '=' is an assignement operator much like '<-' \n",
    "masses >= 9 \n",
    "cell_lines == \"MCF-7\"\n",
    "\n",
    "# the above expressions generate the logical vectors \n",
    "# we can then take these to apply the to their original vectors to get the values themselves. \n",
    "\n",
    "confluence[confluence > 80]\n",
    "confluence[confluence == 100]\n",
    "masses[masses >= 9] \n",
    "cell_lines[cell_lines == \"MCF-7\"]\n",
    "\n",
    "\n"
   ]
  },
  {
   "cell_type": "markdown",
   "metadata": {},
   "source": [
    "# Missing data \n",
    "\n",
    "As R was designed to analyze datasets, it includes the concept of missing data. Missing data are represented in vectors as NA.\n",
    "\n",
    "If your datasets include NA's or missing values, most functions will return NA. In order to avoid this we usually have to remove the NA values. some fuctions include and option ignore the missing values often as `na.rm = TRUE`\n",
    "\n",
    "Let's say we are trying to count the muber of colonies on multi-well plates but not all of them have colonies. "
   ]
  },
  {
   "cell_type": "code",
   "execution_count": 67,
   "metadata": {},
   "outputs": [
    {
     "data": {
      "text/html": [
       "&lt;NA&gt;"
      ],
      "text/latex": [
       "<NA>"
      ],
      "text/markdown": [
       "&lt;NA&gt;"
      ],
      "text/plain": [
       "[1] NA"
      ]
     },
     "metadata": {},
     "output_type": "display_data"
    },
    {
     "data": {
      "text/html": [
       "&lt;NA&gt;"
      ],
      "text/latex": [
       "<NA>"
      ],
      "text/markdown": [
       "&lt;NA&gt;"
      ],
      "text/plain": [
       "[1] NA"
      ]
     },
     "metadata": {},
     "output_type": "display_data"
    },
    {
     "data": {
      "text/html": [
       "&lt;NA&gt;"
      ],
      "text/latex": [
       "<NA>"
      ],
      "text/markdown": [
       "&lt;NA&gt;"
      ],
      "text/plain": [
       "[1] NA"
      ]
     },
     "metadata": {},
     "output_type": "display_data"
    },
    {
     "data": {
      "text/html": [
       "&lt;NA&gt;"
      ],
      "text/latex": [
       "<NA>"
      ],
      "text/markdown": [
       "&lt;NA&gt;"
      ],
      "text/plain": [
       "[1] NA"
      ]
     },
     "metadata": {},
     "output_type": "display_data"
    },
    {
     "data": {
      "text/html": [
       "<ol class=list-inline>\n",
       "\t<li>FALSE</li>\n",
       "\t<li>TRUE</li>\n",
       "\t<li>FALSE</li>\n",
       "\t<li>TRUE</li>\n",
       "\t<li>TRUE</li>\n",
       "\t<li>FALSE</li>\n",
       "\t<li>FALSE</li>\n",
       "\t<li>TRUE</li>\n",
       "\t<li>FALSE</li>\n",
       "\t<li>FALSE</li>\n",
       "\t<li>TRUE</li>\n",
       "\t<li>TRUE</li>\n",
       "</ol>\n"
      ],
      "text/latex": [
       "\\begin{enumerate*}\n",
       "\\item FALSE\n",
       "\\item TRUE\n",
       "\\item FALSE\n",
       "\\item TRUE\n",
       "\\item TRUE\n",
       "\\item FALSE\n",
       "\\item FALSE\n",
       "\\item TRUE\n",
       "\\item FALSE\n",
       "\\item FALSE\n",
       "\\item TRUE\n",
       "\\item TRUE\n",
       "\\end{enumerate*}\n"
      ],
      "text/markdown": [
       "1. FALSE\n",
       "2. TRUE\n",
       "3. FALSE\n",
       "4. TRUE\n",
       "5. TRUE\n",
       "6. FALSE\n",
       "7. FALSE\n",
       "8. TRUE\n",
       "9. FALSE\n",
       "10. FALSE\n",
       "11. TRUE\n",
       "12. TRUE\n",
       "\n",
       "\n"
      ],
      "text/plain": [
       " [1] FALSE  TRUE FALSE  TRUE  TRUE FALSE FALSE  TRUE FALSE FALSE  TRUE  TRUE"
      ]
     },
     "metadata": {},
     "output_type": "display_data"
    },
    {
     "data": {
      "text/html": [
       "<ol class=list-inline>\n",
       "\t<li>&lt;NA&gt;</li>\n",
       "\t<li>&lt;NA&gt;</li>\n",
       "\t<li>&lt;NA&gt;</li>\n",
       "\t<li>&lt;NA&gt;</li>\n",
       "\t<li>&lt;NA&gt;</li>\n",
       "\t<li>&lt;NA&gt;</li>\n",
       "</ol>\n"
      ],
      "text/latex": [
       "\\begin{enumerate*}\n",
       "\\item <NA>\n",
       "\\item <NA>\n",
       "\\item <NA>\n",
       "\\item <NA>\n",
       "\\item <NA>\n",
       "\\item <NA>\n",
       "\\end{enumerate*}\n"
      ],
      "text/markdown": [
       "1. &lt;NA&gt;\n",
       "2. &lt;NA&gt;\n",
       "3. &lt;NA&gt;\n",
       "4. &lt;NA&gt;\n",
       "5. &lt;NA&gt;\n",
       "6. &lt;NA&gt;\n",
       "\n",
       "\n"
      ],
      "text/plain": [
       "[1] NA NA NA NA NA NA"
      ]
     },
     "metadata": {},
     "output_type": "display_data"
    },
    {
     "data": {
      "text/html": [
       "<ol class=list-inline>\n",
       "\t<li>TRUE</li>\n",
       "\t<li>FALSE</li>\n",
       "\t<li>TRUE</li>\n",
       "\t<li>FALSE</li>\n",
       "\t<li>FALSE</li>\n",
       "\t<li>TRUE</li>\n",
       "\t<li>TRUE</li>\n",
       "\t<li>FALSE</li>\n",
       "\t<li>TRUE</li>\n",
       "\t<li>TRUE</li>\n",
       "\t<li>FALSE</li>\n",
       "\t<li>FALSE</li>\n",
       "</ol>\n"
      ],
      "text/latex": [
       "\\begin{enumerate*}\n",
       "\\item TRUE\n",
       "\\item FALSE\n",
       "\\item TRUE\n",
       "\\item FALSE\n",
       "\\item FALSE\n",
       "\\item TRUE\n",
       "\\item TRUE\n",
       "\\item FALSE\n",
       "\\item TRUE\n",
       "\\item TRUE\n",
       "\\item FALSE\n",
       "\\item FALSE\n",
       "\\end{enumerate*}\n"
      ],
      "text/markdown": [
       "1. TRUE\n",
       "2. FALSE\n",
       "3. TRUE\n",
       "4. FALSE\n",
       "5. FALSE\n",
       "6. TRUE\n",
       "7. TRUE\n",
       "8. FALSE\n",
       "9. TRUE\n",
       "10. TRUE\n",
       "11. FALSE\n",
       "12. FALSE\n",
       "\n",
       "\n"
      ],
      "text/plain": [
       " [1]  TRUE FALSE  TRUE FALSE FALSE  TRUE  TRUE FALSE  TRUE  TRUE FALSE FALSE"
      ]
     },
     "metadata": {},
     "output_type": "display_data"
    },
    {
     "data": {
      "text/html": [
       "<ol class=list-inline>\n",
       "\t<li>22</li>\n",
       "\t<li>57</li>\n",
       "\t<li>103</li>\n",
       "\t<li>73</li>\n",
       "\t<li>23</li>\n",
       "\t<li>36</li>\n",
       "</ol>\n"
      ],
      "text/latex": [
       "\\begin{enumerate*}\n",
       "\\item 22\n",
       "\\item 57\n",
       "\\item 103\n",
       "\\item 73\n",
       "\\item 23\n",
       "\\item 36\n",
       "\\end{enumerate*}\n"
      ],
      "text/markdown": [
       "1. 22\n",
       "2. 57\n",
       "3. 103\n",
       "4. 73\n",
       "5. 23\n",
       "6. 36\n",
       "\n",
       "\n"
      ],
      "text/plain": [
       "[1]  22  57 103  73  23  36"
      ]
     },
     "metadata": {},
     "output_type": "display_data"
    },
    {
     "data": {
      "text/html": [
       "<ol class=list-inline>\n",
       "\t<li>22</li>\n",
       "\t<li>57</li>\n",
       "\t<li>103</li>\n",
       "\t<li>73</li>\n",
       "\t<li>23</li>\n",
       "\t<li>36</li>\n",
       "</ol>\n"
      ],
      "text/latex": [
       "\\begin{enumerate*}\n",
       "\\item 22\n",
       "\\item 57\n",
       "\\item 103\n",
       "\\item 73\n",
       "\\item 23\n",
       "\\item 36\n",
       "\\end{enumerate*}\n"
      ],
      "text/markdown": [
       "1. 22\n",
       "2. 57\n",
       "3. 103\n",
       "4. 73\n",
       "5. 23\n",
       "6. 36\n",
       "\n",
       "\n"
      ],
      "text/plain": [
       "[1]  22  57 103  73  23  36\n",
       "attr(,\"na.action\")\n",
       "[1]  2  4  5  8 11 12\n",
       "attr(,\"class\")\n",
       "[1] \"omit\""
      ]
     },
     "metadata": {},
     "output_type": "display_data"
    },
    {
     "data": {
      "text/html": [
       "<ol class=list-inline>\n",
       "\t<li>22</li>\n",
       "\t<li>57</li>\n",
       "\t<li>103</li>\n",
       "\t<li>73</li>\n",
       "\t<li>23</li>\n",
       "\t<li>36</li>\n",
       "</ol>\n"
      ],
      "text/latex": [
       "\\begin{enumerate*}\n",
       "\\item 22\n",
       "\\item 57\n",
       "\\item 103\n",
       "\\item 73\n",
       "\\item 23\n",
       "\\item 36\n",
       "\\end{enumerate*}\n"
      ],
      "text/markdown": [
       "1. 22\n",
       "2. 57\n",
       "3. 103\n",
       "4. 73\n",
       "5. 23\n",
       "6. 36\n",
       "\n",
       "\n"
      ],
      "text/plain": [
       "[1]  22  57 103  73  23  36"
      ]
     },
     "metadata": {},
     "output_type": "display_data"
    }
   ],
   "source": [
    "num_colonies  <- c(22, NA, 57, NA, NA, 103, 73, NA, 23, 36, NA, NA)\n",
    "\n",
    "mean(num_colonies)\n",
    "max(num_colonies)\n",
    "\n",
    "#try adding ', na.rm = TRUE'\n",
    "mean(num_colonies)\n",
    "max(num_colonies)\n",
    "\n",
    "is.na(num_colonies) # is.na returns a logical vector as to if the value is NA. \n",
    "                         # applies the logical vector to extract the TRUE values\n",
    "!is.na(num_colonies)  # the `!` is the negation operator which means 'not'\n",
    "                         # applies the logical vector to extract the TRUE values\n",
    "\n",
    "na.omit(num_colonies) # Returns the object with incomplete cases removed. this applies to rows \n",
    "num_colonies[complete.cases(num_colonies)]  # Extract those elements which are complete cases. this applies to rows "
   ]
  },
  {
   "cell_type": "markdown",
   "metadata": {},
   "source": [
    "# The final Trial \n",
    "\n",
    "let use what we have learned today to make a function to remove missing data from a numerical vector and the return the values from that vector that are above a certain number that we define then find the median of that subeset of numbers. Once you create the function create a variable that will be the input argument for the threshold number. \n",
    "\n",
    "outline your algorithm in plain english below - this is an essential part of writing a good algorithm. "
   ]
  },
  {
   "cell_type": "markdown",
   "metadata": {},
   "source": []
  },
  {
   "cell_type": "code",
   "execution_count": 89,
   "metadata": {},
   "outputs": [
    {
     "data": {
      "text/html": [
       "73"
      ],
      "text/latex": [
       "73"
      ],
      "text/markdown": [
       "73"
      ],
      "text/plain": [
       "[1] 73"
      ]
     },
     "metadata": {},
     "output_type": "display_data"
    },
    {
     "data": {
      "text/html": [
       "<ol class=list-inline>\n",
       "\t<li>57</li>\n",
       "\t<li>103</li>\n",
       "\t<li>73</li>\n",
       "\t<li>62</li>\n",
       "\t<li>78</li>\n",
       "\t<li>114</li>\n",
       "\t<li>110</li>\n",
       "\t<li>64</li>\n",
       "\t<li>54</li>\n",
       "</ol>\n"
      ],
      "text/latex": [
       "\\begin{enumerate*}\n",
       "\\item 57\n",
       "\\item 103\n",
       "\\item 73\n",
       "\\item 62\n",
       "\\item 78\n",
       "\\item 114\n",
       "\\item 110\n",
       "\\item 64\n",
       "\\item 54\n",
       "\\end{enumerate*}\n"
      ],
      "text/markdown": [
       "1. 57\n",
       "2. 103\n",
       "3. 73\n",
       "4. 62\n",
       "5. 78\n",
       "6. 114\n",
       "7. 110\n",
       "8. 64\n",
       "9. 54\n",
       "\n",
       "\n"
      ],
      "text/plain": [
       "[1]  57 103  73  62  78 114 110  64  54\n",
       "attr(,\"na.action\")\n",
       "[1]  1  3  4  7  8 10 12 13 17\n",
       "attr(,\"class\")\n",
       "[1] \"omit\""
      ]
     },
     "metadata": {},
     "output_type": "display_data"
    },
    {
     "data": {
      "text/html": [
       "73"
      ],
      "text/latex": [
       "73"
      ],
      "text/markdown": [
       "73"
      ],
      "text/plain": [
       "[1] 73"
      ]
     },
     "metadata": {},
     "output_type": "display_data"
    }
   ],
   "source": [
    "# use this vector as input\n",
    "num_cells  <- c(22, NA, 57, NA, NA, 103, 73, NA, 23, 36, NA, 62, 13, NA, 78, NA, NA, 114, 110, 64, 21, 23, NA, 54)\n",
    "\n",
    "\n",
    "thresh_med  <- function (vector, thresh){     # 1. name an initialize your function, name your (2) arguments\n",
    "    cleaned  <-  vector[!is.na(vector)]       # 2. remove NA's\n",
    "    threshed  <-  cleaned[cleaned > thresh]   # 3. extract values above the threshold value\n",
    "    med  <- median(threshed)                  # 4. get the median of those extracted values \n",
    "    return(med)                               # 5. return the value\n",
    "}                 \n",
    "\n",
    "threshold  <- 50\n",
    "thresh_med1(num_cells, threshold)             # execute your code on an example\n"
   ]
  },
  {
   "cell_type": "code",
   "execution_count": null,
   "metadata": {},
   "outputs": [],
   "source": []
  }
 ],
 "metadata": {
  "kernelspec": {
   "display_name": "R",
   "language": "R",
   "name": "ir"
  },
  "language_info": {
   "codemirror_mode": "r",
   "file_extension": ".r",
   "mimetype": "text/x-r-source",
   "name": "R",
   "pygments_lexer": "r",
   "version": "3.6.1"
  }
 },
 "nbformat": 4,
 "nbformat_minor": 2
}
