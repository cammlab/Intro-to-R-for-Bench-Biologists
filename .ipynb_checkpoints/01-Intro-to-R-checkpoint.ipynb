{
 "cells": [
  {
   "cell_type": "code",
   "execution_count": 3,
   "metadata": {},
   "outputs": [],
   "source": [
    "source(\"setup.R\")"
   ]
  },
  {
   "cell_type": "markdown",
   "metadata": {},
   "source": [
    "------------\n",
    "\n",
    "> ### Learning Objectives\n",
    ">\n",
    "> * Define the following terms as they relate to R: object, assign, call,\n",
    ">   function, arguments, options.\n",
    "> * Assign values to objects in R.\n",
    "> * Learn how to _name_ objects\n",
    "> * Use comments to inform script.\n",
    "> * Solve simple arithmetic operations in R.\n",
    "> * Call functions and use arguments to change their default options.\n",
    "> * Inspect the content of vectors and manipulate their content.\n",
    "> * Subset and extract values from vectors.\n",
    "> * Analyze vectors with missing data.\n",
    "\n",
    "------------\n",
    "\n",
    "## Creating objects in R\n",
    "\n",
    "You can get output from R simply by typing math in the console:\n",
    "add two more math expression of your own. "
   ]
  },
  {
   "cell_type": "code",
   "execution_count": 4,
   "metadata": {
    "scrolled": true
   },
   "outputs": [
    {
     "data": {
      "text/html": [
       "8"
      ],
      "text/latex": [
       "8"
      ],
      "text/markdown": [
       "8"
      ],
      "text/plain": [
       "[1] 8"
      ]
     },
     "metadata": {},
     "output_type": "display_data"
    },
    {
     "data": {
      "text/html": [
       "1.71428571428571"
      ],
      "text/latex": [
       "1.71428571428571"
      ],
      "text/markdown": [
       "1.71428571428571"
      ],
      "text/plain": [
       "[1] 1.714286"
      ]
     },
     "metadata": {},
     "output_type": "display_data"
    }
   ],
   "source": [
    "3 + 5\n",
    "12 / 7"
   ]
  },
  {
   "cell_type": "markdown",
   "metadata": {},
   "source": [
    "However, to do useful and interesting things, we need to assign _values_ to\n",
    "_objects_. To create an object, we need to give it a name followed by the\n",
    "assignment operator `<-`, and the value we want to give it:\n",
    "\n",
    "* add your own variable called media_ml and assign it a value"
   ]
  },
  {
   "cell_type": "code",
   "execution_count": 10,
   "metadata": {
    "scrolled": true
   },
   "outputs": [
    {
     "data": {
      "text/html": [
       "1000"
      ],
      "text/latex": [
       "1000"
      ],
      "text/markdown": [
       "1000"
      ],
      "text/plain": [
       "[1] 1000"
      ]
     },
     "metadata": {},
     "output_type": "display_data"
    }
   ],
   "source": [
    "FBS_ml <- 1000\n",
    "FBS_ml"
   ]
  },
  {
   "cell_type": "markdown",
   "metadata": {},
   "source": [
    " `<-` is the assignment operator. It assigns values on the right to objects on\n",
    "the left. So, after executing `x <- 3`, the value of `x` is `3`. The arrow can\n",
    "be read as 3 **goes into** `x`.  \n",
    "\n",
    " In RStudio, typing <kbd>Alt</kbd> + <kbd>-</kbd> (push <kbd>Alt</kbd> at the\n",
    "same time as the <kbd>-</kbd> key) will write ` <- ` in a single keystroke in a PC, while typing <kbd>Option</kbd> + <kbd>-</kbd> (push <kbd>Option</kbd> at the\n",
    "same time as the <kbd>-</kbd> key) does the same in a Mac.\n",
    "\n",
    " Objects can be given any name such as `x`, `current_temperature`, or\n",
    "`subject_id`. You want your object names to be explicit and not too long. They\n",
    "cannot start with a number (`2x` is not valid, but `x2` is). R is case sensitive\n",
    "(e.g., `weight_kg` is different from `Weight_kg`). There are some names that\n",
    "cannot be used because they are the names of fundamental functions in R (e.g.,\n",
    "`if`, `else`, `for` etc.\n",
    "\n",
    "There several styles of naming multiple word variables - \n",
    "\n",
    "* camelCase\n",
    "* PascalCase\n",
    "* snake_case\n",
    "\n",
    "**pick one and be consistent**\n",
    "\n",
    "It's important to be consistent in the styling of your\n",
    "code (where you put spaces, how you name objects, etc.). Using a consistent\n",
    "coding style makes your code clearer to read for your future self and your\n",
    "collaborators. \n",
    "\n",
    "style guide [tidyverse's](http://style.tidyverse.org/). The tidyverse's is very\n",
    "comprehensive and may seem overwhelming at first. You can install the\n",
    "[**`lintr`**](https://github.com/jimhester/lintr) package to automatically check\n",
    "for issues in the styling of your code.\n",
    "\n",
    "> ### Objects vs. variables\n",
    ">\n",
    "> What are known as `objects` in `R` are known as `variables` in many other\n",
    "> programming languages. Depending on the context, `object` and `variable` can\n",
    "> have drastically different meanings. However, in this lesson, the two words\n",
    "> are used synonymously. For more information see:\n",
    "> https://cran.r-project.org/doc/manuals/r-release/R-lang.html#Objects\n",
    "\n",
    "\n",
    "Now that R has `weight_kg` in memory, we can do arithmetic with it. For\n",
    "instance, we may want to convert this weight into pounds (weight in pounds is 2.2 times the weight in kg):\n"
   ]
  },
  {
   "cell_type": "code",
   "execution_count": 12,
   "metadata": {},
   "outputs": [
    {
     "data": {
      "text/html": [
       "1"
      ],
      "text/latex": [
       "1"
      ],
      "text/markdown": [
       "1"
      ],
      "text/plain": [
       "[1] 1"
      ]
     },
     "metadata": {},
     "output_type": "display_data"
    }
   ],
   "source": [
    ".001 * FBS_ml"
   ]
  },
  {
   "cell_type": "markdown",
   "metadata": {},
   "source": [
    "We can also change an objects value by assigning it a new one. "
   ]
  },
  {
   "cell_type": "code",
   "execution_count": 15,
   "metadata": {},
   "outputs": [
    {
     "data": {
      "text/html": [
       "2"
      ],
      "text/latex": [
       "2"
      ],
      "text/markdown": [
       "2"
      ],
      "text/plain": [
       "[1] 2"
      ]
     },
     "metadata": {},
     "output_type": "display_data"
    }
   ],
   "source": [
    "FBS_ml <- 2000\n",
    ".001 * FBS_ml"
   ]
  },
  {
   "cell_type": "markdown",
   "metadata": {},
   "source": [
    "This means that assigning a value to one object does not change the values of\n",
    "other objects  For example, let's store the animal's weight in pounds in a new\n",
    "object, `weight_lb`:"
   ]
  },
  {
   "cell_type": "code",
   "execution_count": 19,
   "metadata": {},
   "outputs": [
    {
     "data": {
      "text/html": [
       "2"
      ],
      "text/latex": [
       "2"
      ],
      "text/markdown": [
       "2"
      ],
      "text/plain": [
       "[1] 2"
      ]
     },
     "metadata": {},
     "output_type": "display_data"
    }
   ],
   "source": [
    "FBS_L <- .001 * FBS_ml\n",
    "\n",
    "FBS_L"
   ]
  },
  {
   "cell_type": "markdown",
   "metadata": {},
   "source": [
    "and then change `FBS_ml` to 100."
   ]
  },
  {
   "cell_type": "code",
   "execution_count": 7,
   "metadata": {},
   "outputs": [],
   "source": [
    "FBS_ml <- 100"
   ]
  },
  {
   "cell_type": "markdown",
   "metadata": {},
   "source": [
    "What do you think is the current content of the object `FBS_L`? 100 or 2?\n",
    "\n",
    "once you make a guess, display the value below to check your answer."
   ]
  },
  {
   "cell_type": "code",
   "execution_count": null,
   "metadata": {},
   "outputs": [],
   "source": []
  },
  {
   "cell_type": "markdown",
   "metadata": {},
   "source": [
    "\n"
   ]
  }
 ],
 "metadata": {
  "kernelspec": {
   "display_name": "R",
   "language": "R",
   "name": "ir"
  },
  "language_info": {
   "codemirror_mode": "r",
   "file_extension": ".r",
   "mimetype": "text/x-r-source",
   "name": "R",
   "pygments_lexer": "r",
   "version": "3.6.1"
  }
 },
 "nbformat": 4,
 "nbformat_minor": 2
}
